{
 "cells": [
  {
   "cell_type": "code",
   "execution_count": 201,
   "metadata": {
    "collapsed": true
   },
   "outputs": [],
   "source": [
    "import pandas as pd\n",
    "import numpy as np"
   ]
  },
  {
   "cell_type": "code",
   "execution_count": 202,
   "metadata": {
    "collapsed": false
   },
   "outputs": [],
   "source": [
    "data = pd.read_csv('../data/FULL.csv', sep=';', index_col=0).reset_index(drop=True)"
   ]
  },
  {
   "cell_type": "code",
   "execution_count": 203,
   "metadata": {
    "collapsed": false
   },
   "outputs": [
    {
     "data": {
      "text/html": [
       "<div>\n",
       "<table border=\"1\" class=\"dataframe\">\n",
       "  <thead>\n",
       "    <tr style=\"text-align: right;\">\n",
       "      <th></th>\n",
       "      <th>FIPE_link</th>\n",
       "      <th>tipoc</th>\n",
       "      <th>carroceria</th>\n",
       "      <th>ano</th>\n",
       "      <th>tpag</th>\n",
       "      <th>preco</th>\n",
       "      <th>tipo</th>\n",
       "      <th>anomod</th>\n",
       "      <th>FIPE</th>\n",
       "      <th>download_date</th>\n",
       "      <th>...</th>\n",
       "      <th>estado</th>\n",
       "      <th>cor</th>\n",
       "      <th>cidade</th>\n",
       "      <th>final_placa</th>\n",
       "      <th>km</th>\n",
       "      <th>cambio</th>\n",
       "      <th>idk</th>\n",
       "      <th>modelo</th>\n",
       "      <th>codigo</th>\n",
       "      <th>ativo</th>\n",
       "    </tr>\n",
       "  </thead>\n",
       "  <tbody>\n",
       "    <tr>\n",
       "      <th>0</th>\n",
       "      <td>http://www.webmotors.com.br/tabela-fipe/sp/vol...</td>\n",
       "      <td>usado</td>\n",
       "      <td>Hatchback</td>\n",
       "      <td>2008/2009</td>\n",
       "      <td>det_anunc_c</td>\n",
       "      <td>23900</td>\n",
       "      <td>concessionaria</td>\n",
       "      <td>2009.0</td>\n",
       "      <td>R$ 24.841,00</td>\n",
       "      <td>2016-08-04 10:21:07</td>\n",
       "      <td>...</td>\n",
       "      <td>Sao Paulo (SP)</td>\n",
       "      <td>Prata</td>\n",
       "      <td>Campinas</td>\n",
       "      <td>1</td>\n",
       "      <td>78.200</td>\n",
       "      <td>Manual</td>\n",
       "      <td>NaN</td>\n",
       "      <td>FOX</td>\n",
       "      <td>17498357.0</td>\n",
       "      <td>1</td>\n",
       "    </tr>\n",
       "    <tr>\n",
       "      <th>1</th>\n",
       "      <td>http://www.webmotors.com.br/tabela-fipe/sc/vol...</td>\n",
       "      <td>usado</td>\n",
       "      <td>Hatchback</td>\n",
       "      <td>2009/2009</td>\n",
       "      <td>det_anunc_c</td>\n",
       "      <td>18900</td>\n",
       "      <td>loja</td>\n",
       "      <td>2009.0</td>\n",
       "      <td>R$ 18.499,00</td>\n",
       "      <td>2016-08-04 10:21:09</td>\n",
       "      <td>...</td>\n",
       "      <td>Santa Catarina (SC)</td>\n",
       "      <td>Prata</td>\n",
       "      <td>Sombrio</td>\n",
       "      <td>8</td>\n",
       "      <td>89.000</td>\n",
       "      <td>Manual</td>\n",
       "      <td>NaN</td>\n",
       "      <td>GOL</td>\n",
       "      <td>15487440.0</td>\n",
       "      <td>1</td>\n",
       "    </tr>\n",
       "    <tr>\n",
       "      <th>2</th>\n",
       "      <td>http://www.webmotors.com.br/tabela-fipe/sp/for...</td>\n",
       "      <td>usado</td>\n",
       "      <td>Hatchback</td>\n",
       "      <td>2010/2011</td>\n",
       "      <td>det_anunc_c</td>\n",
       "      <td>18900</td>\n",
       "      <td>loja</td>\n",
       "      <td>2011.0</td>\n",
       "      <td>R$ 16.953,00</td>\n",
       "      <td>2016-08-04 10:21:11</td>\n",
       "      <td>...</td>\n",
       "      <td>Sao Paulo (SP)</td>\n",
       "      <td>Preto</td>\n",
       "      <td>Lorena</td>\n",
       "      <td>2</td>\n",
       "      <td>60.000</td>\n",
       "      <td>Manual</td>\n",
       "      <td>NaN</td>\n",
       "      <td>KA</td>\n",
       "      <td>17482056.0</td>\n",
       "      <td>1</td>\n",
       "    </tr>\n",
       "    <tr>\n",
       "      <th>3</th>\n",
       "      <td>http://www.webmotors.com.br/tabela-fipe/pr/fia...</td>\n",
       "      <td>usado</td>\n",
       "      <td>Seda</td>\n",
       "      <td>2005/2005</td>\n",
       "      <td>det_anunc_c</td>\n",
       "      <td>18900</td>\n",
       "      <td>loja</td>\n",
       "      <td>2005.0</td>\n",
       "      <td>R$ 16.670,00</td>\n",
       "      <td>2016-08-04 10:21:13</td>\n",
       "      <td>...</td>\n",
       "      <td>Parana (PR)</td>\n",
       "      <td>Prata</td>\n",
       "      <td>Londrina</td>\n",
       "      <td>0</td>\n",
       "      <td>100.000</td>\n",
       "      <td>Manual</td>\n",
       "      <td>NaN</td>\n",
       "      <td>SIENA</td>\n",
       "      <td>17482399.0</td>\n",
       "      <td>1</td>\n",
       "    </tr>\n",
       "    <tr>\n",
       "      <th>4</th>\n",
       "      <td>http://www.webmotors.com.br/tabela-fipe/sp/mit...</td>\n",
       "      <td>usado</td>\n",
       "      <td>Utilitario esportivo</td>\n",
       "      <td>2002/2002</td>\n",
       "      <td>det_anunc_c</td>\n",
       "      <td>18900</td>\n",
       "      <td>loja</td>\n",
       "      <td>2002.0</td>\n",
       "      <td>0</td>\n",
       "      <td>2016-08-04 10:21:15</td>\n",
       "      <td>...</td>\n",
       "      <td>Sao Paulo (SP)</td>\n",
       "      <td>Preto</td>\n",
       "      <td>Mogi das Cruzes</td>\n",
       "      <td>2</td>\n",
       "      <td>205.734</td>\n",
       "      <td>Manual</td>\n",
       "      <td>NaN</td>\n",
       "      <td>PAJERO TR4</td>\n",
       "      <td>17489072.0</td>\n",
       "      <td>1</td>\n",
       "    </tr>\n",
       "  </tbody>\n",
       "</table>\n",
       "<p>5 rows × 26 columns</p>\n",
       "</div>"
      ],
      "text/plain": [
       "                                           FIPE_link  tipoc  \\\n",
       "0  http://www.webmotors.com.br/tabela-fipe/sp/vol...  usado   \n",
       "1  http://www.webmotors.com.br/tabela-fipe/sc/vol...  usado   \n",
       "2  http://www.webmotors.com.br/tabela-fipe/sp/for...  usado   \n",
       "3  http://www.webmotors.com.br/tabela-fipe/pr/fia...  usado   \n",
       "4  http://www.webmotors.com.br/tabela-fipe/sp/mit...  usado   \n",
       "\n",
       "             carroceria        ano         tpag  preco            tipo  \\\n",
       "0             Hatchback  2008/2009  det_anunc_c  23900  concessionaria   \n",
       "1             Hatchback  2009/2009  det_anunc_c  18900            loja   \n",
       "2             Hatchback  2010/2011  det_anunc_c  18900            loja   \n",
       "3                  Seda  2005/2005  det_anunc_c  18900            loja   \n",
       "4  Utilitario esportivo  2002/2002  det_anunc_c  18900            loja   \n",
       "\n",
       "   anomod          FIPE        download_date  ...                estado  \\\n",
       "0  2009.0  R$ 24.841,00  2016-08-04 10:21:07  ...        Sao Paulo (SP)   \n",
       "1  2009.0  R$ 18.499,00  2016-08-04 10:21:09  ...   Santa Catarina (SC)   \n",
       "2  2011.0  R$ 16.953,00  2016-08-04 10:21:11  ...        Sao Paulo (SP)   \n",
       "3  2005.0  R$ 16.670,00  2016-08-04 10:21:13  ...           Parana (PR)   \n",
       "4  2002.0             0  2016-08-04 10:21:15  ...        Sao Paulo (SP)   \n",
       "\n",
       "     cor           cidade final_placa       km  cambio idk      modelo  \\\n",
       "0  Prata         Campinas           1   78.200  Manual NaN         FOX   \n",
       "1  Prata          Sombrio           8   89.000  Manual NaN         GOL   \n",
       "2  Preto           Lorena           2   60.000  Manual NaN          KA   \n",
       "3  Prata         Londrina           0  100.000  Manual NaN       SIENA   \n",
       "4  Preto  Mogi das Cruzes           2  205.734  Manual NaN  PAJERO TR4   \n",
       "\n",
       "       codigo ativo  \n",
       "0  17498357.0     1  \n",
       "1  15487440.0     1  \n",
       "2  17482056.0     1  \n",
       "3  17482399.0     1  \n",
       "4  17489072.0     1  \n",
       "\n",
       "[5 rows x 26 columns]"
      ]
     },
     "execution_count": 203,
     "metadata": {},
     "output_type": "execute_result"
    }
   ],
   "source": [
    "data.head()"
   ]
  },
  {
   "cell_type": "markdown",
   "metadata": {},
   "source": [
    "### FIPE link"
   ]
  },
  {
   "cell_type": "code",
   "execution_count": 204,
   "metadata": {
    "collapsed": false
   },
   "outputs": [
    {
     "data": {
      "text/plain": [
       "54382"
      ]
     },
     "execution_count": 204,
     "metadata": {},
     "output_type": "execute_result"
    }
   ],
   "source": [
    "len(data.FIPE_link.unique())"
   ]
  },
  {
   "cell_type": "markdown",
   "metadata": {},
   "source": [
    "### Tipo"
   ]
  },
  {
   "cell_type": "code",
   "execution_count": 205,
   "metadata": {
    "collapsed": false
   },
   "outputs": [
    {
     "data": {
      "text/plain": [
       "usado    185778\n",
       "Name: tipoc, dtype: int64"
      ]
     },
     "execution_count": 205,
     "metadata": {},
     "output_type": "execute_result"
    }
   ],
   "source": [
    "data.tipoc.value_counts()"
   ]
  },
  {
   "cell_type": "markdown",
   "metadata": {},
   "source": [
    "### Carroceria"
   ]
  },
  {
   "cell_type": "code",
   "execution_count": 206,
   "metadata": {
    "collapsed": false
   },
   "outputs": [
    {
     "data": {
      "text/plain": [
       "Hatchback               63776\n",
       "Seda                    46562\n",
       "Utilitario esportivo    32790\n",
       "Picape                  17869\n",
       "Minivan                 11306\n",
       "Perua/SW                 5581\n",
       "Cupe                     3133\n",
       "Van/Utilitario           3070\n",
       "Conversivel              1624\n",
       "Buggy                      67\n",
       "Name: carroceria, dtype: int64"
      ]
     },
     "execution_count": 206,
     "metadata": {},
     "output_type": "execute_result"
    }
   ],
   "source": [
    "data.carroceria.value_counts()"
   ]
  },
  {
   "cell_type": "markdown",
   "metadata": {},
   "source": [
    "### Ano"
   ]
  },
  {
   "cell_type": "code",
   "execution_count": 207,
   "metadata": {
    "collapsed": false
   },
   "outputs": [
    {
     "data": {
      "text/plain": [
       "2013/2014    16275\n",
       "2012/2013    15857\n",
       "2011/2012    15548\n",
       "2014/2015    13073\n",
       "2010/2011    12469\n",
       "2013/2013    10207\n",
       "2009/2010     8786\n",
       "2012/2012     8768\n",
       "2011/2011     8596\n",
       "2014/2014     7891\n",
       "2010/2010     6759\n",
       "2015/2015     6312\n",
       "2008/2009     6138\n",
       "2008/2008     6077\n",
       "2015/2016     4966\n",
       "2009/2009     4872\n",
       "2007/2008     4774\n",
       "2007/2007     3393\n",
       "2006/2007     2867\n",
       "2006/2006     2445\n",
       "2005/2005     2078\n",
       "2005/2006     1663\n",
       "2004/2004     1440\n",
       "2004/2005     1294\n",
       "2003/2003     1087\n",
       "2001/2001      944\n",
       "2016/2016      872\n",
       "2002/2002      815\n",
       "2003/2004      765\n",
       "2002/2003      733\n",
       "             ...  \n",
       "1953/1953        4\n",
       "1984/1985        4\n",
       "1928/1928        4\n",
       "1961/1962        4\n",
       "1947/1947        4\n",
       "1955/1955        4\n",
       "1956/1956        3\n",
       "1969/1970        3\n",
       "1972/1973        3\n",
       "1947/1948        2\n",
       "1928/1929        2\n",
       "1950/1951        2\n",
       "1950/1950        2\n",
       "1948/1948        2\n",
       "1970/1971        2\n",
       "1965/1966        2\n",
       "1931/1931        2\n",
       "1963/1964        2\n",
       "1971/1972        1\n",
       "1958/1959        1\n",
       "1951/1952        1\n",
       "2009/2008        1\n",
       "1952/1953        1\n",
       "1966/1967        1\n",
       "1949/1949        1\n",
       "1927/1928        1\n",
       "1938/1939        1\n",
       "1930/1930        1\n",
       "1954/1954        1\n",
       "1956/1957        1\n",
       "Name: ano, dtype: int64"
      ]
     },
     "execution_count": 207,
     "metadata": {},
     "output_type": "execute_result"
    }
   ],
   "source": [
    "data.ano.value_counts()"
   ]
  },
  {
   "cell_type": "markdown",
   "metadata": {},
   "source": [
    "### tpag"
   ]
  },
  {
   "cell_type": "code",
   "execution_count": 208,
   "metadata": {
    "collapsed": false
   },
   "outputs": [
    {
     "data": {
      "text/plain": [
       "det_anunc_c    185778\n",
       "Name: tpag, dtype: int64"
      ]
     },
     "execution_count": 208,
     "metadata": {},
     "output_type": "execute_result"
    }
   ],
   "source": [
    "data.tpag.value_counts()"
   ]
  },
  {
   "cell_type": "markdown",
   "metadata": {},
   "source": [
    "### Preco"
   ]
  },
  {
   "cell_type": "code",
   "execution_count": 209,
   "metadata": {
    "collapsed": false
   },
   "outputs": [],
   "source": [
    "data.preco = data.preco.str.replace(',','.').apply(float).fillna(0)"
   ]
  },
  {
   "cell_type": "code",
   "execution_count": 210,
   "metadata": {
    "collapsed": false
   },
   "outputs": [
    {
     "data": {
      "text/plain": [
       "count    1.892090e+05\n",
       "mean     5.737618e+04\n",
       "std      9.840549e+05\n",
       "min      0.000000e+00\n",
       "25%      2.490000e+04\n",
       "50%      3.599000e+04\n",
       "75%      5.650000e+04\n",
       "max      2.222222e+08\n",
       "Name: preco, dtype: float64"
      ]
     },
     "execution_count": 210,
     "metadata": {},
     "output_type": "execute_result"
    }
   ],
   "source": [
    "data.preco.describe()"
   ]
  },
  {
   "cell_type": "markdown",
   "metadata": {},
   "source": [
    "### Tipo"
   ]
  },
  {
   "cell_type": "code",
   "execution_count": 211,
   "metadata": {
    "collapsed": false
   },
   "outputs": [
    {
     "data": {
      "text/plain": [
       "loja              111826\n",
       "pessoafisica       50316\n",
       "concessionaria     23636\n",
       "Name: tipo, dtype: int64"
      ]
     },
     "execution_count": 211,
     "metadata": {},
     "output_type": "execute_result"
    }
   ],
   "source": [
    "data.tipo.value_counts()"
   ]
  },
  {
   "cell_type": "markdown",
   "metadata": {},
   "source": [
    "### Ano Modelo"
   ]
  },
  {
   "cell_type": "code",
   "execution_count": null,
   "metadata": {
    "collapsed": true
   },
   "outputs": [],
   "source": []
  },
  {
   "cell_type": "markdown",
   "metadata": {},
   "source": [
    "### FIPE"
   ]
  },
  {
   "cell_type": "code",
   "execution_count": 212,
   "metadata": {
    "collapsed": false
   },
   "outputs": [],
   "source": [
    "fipe = data.FIPE.str.replace('R\\\\$ ','')\n",
    "fipe = fipe.str.strip()\n",
    "fipe = fipe.str.replace('.','')\n",
    "fipe = fipe.str.replace(',','.')\n",
    "fipe = fipe.apply(float)"
   ]
  },
  {
   "cell_type": "code",
   "execution_count": 213,
   "metadata": {
    "collapsed": false
   },
   "outputs": [
    {
     "data": {
      "text/plain": [
       "count    1.892090e+05\n",
       "mean     3.754542e+04\n",
       "std      4.905714e+04\n",
       "min      0.000000e+00\n",
       "25%      1.851400e+04\n",
       "50%      2.986500e+04\n",
       "75%      4.531500e+04\n",
       "max      3.232470e+06\n",
       "Name: FIPE, dtype: float64"
      ]
     },
     "execution_count": 213,
     "metadata": {},
     "output_type": "execute_result"
    }
   ],
   "source": [
    "data.FIPE = fipe.fillna(0)\n",
    "data.FIPE.describe()"
   ]
  },
  {
   "cell_type": "markdown",
   "metadata": {},
   "source": [
    "### Download Date"
   ]
  },
  {
   "cell_type": "code",
   "execution_count": 214,
   "metadata": {
    "collapsed": false
   },
   "outputs": [],
   "source": [
    "data.download_date = pd.to_datetime(data.download_date)"
   ]
  },
  {
   "cell_type": "markdown",
   "metadata": {},
   "source": [
    "### FIPE data"
   ]
  },
  {
   "cell_type": "code",
   "execution_count": 215,
   "metadata": {
    "collapsed": true
   },
   "outputs": [],
   "source": [
    "data.FIPE_data = pd.to_datetime(data.FIPE_data)"
   ]
  },
  {
   "cell_type": "markdown",
   "metadata": {},
   "source": [
    "### Portas"
   ]
  },
  {
   "cell_type": "code",
   "execution_count": 216,
   "metadata": {
    "collapsed": false
   },
   "outputs": [
    {
     "data": {
      "text/plain": [
       "4.0    158478\n",
       "2.0     23769\n",
       "3.0      2215\n",
       "0.0      1316\n",
       "Name: portas, dtype: int64"
      ]
     },
     "execution_count": 216,
     "metadata": {},
     "output_type": "execute_result"
    }
   ],
   "source": [
    "data.portas.value_counts()"
   ]
  },
  {
   "cell_type": "markdown",
   "metadata": {},
   "source": [
    "### Combustível"
   ]
  },
  {
   "cell_type": "code",
   "execution_count": 217,
   "metadata": {
    "collapsed": false
   },
   "outputs": [
    {
     "data": {
      "text/plain": [
       "Gasolina e alcool                          112906\n",
       "Gasolina                                    57723\n",
       "Diesel                                      13345\n",
       "Alcool                                        790\n",
       "Gasolina, alcool e gas natural                449\n",
       "Gasolina e gas natural                        369\n",
       "Gas natural                                    81\n",
       "Gasolina e eletrico                            49\n",
       "Alcool e gas natural                           36\n",
       "Gasolina, alcool, gas natural e benzina        28\n",
       "Gasolina/Alcool                                 2\n",
       "Name: combustivel, dtype: int64"
      ]
     },
     "execution_count": 217,
     "metadata": {},
     "output_type": "execute_result"
    }
   ],
   "source": [
    "data.combustivel.value_counts()"
   ]
  },
  {
   "cell_type": "markdown",
   "metadata": {},
   "source": [
    "### Marca"
   ]
  },
  {
   "cell_type": "code",
   "execution_count": 218,
   "metadata": {
    "collapsed": false
   },
   "outputs": [
    {
     "data": {
      "text/plain": [
       "VOLKSWAGEN       29605\n",
       "CHEVROLET        26171\n",
       "FIAT             24160\n",
       "FORD             19557\n",
       "RENAULT          10913\n",
       "HYUNDAI           9543\n",
       "TOYOTA            8191\n",
       "HONDA             7943\n",
       "MITSUBISHI        6729\n",
       "CITROËN           6006\n",
       "PEUGEOT           5307\n",
       "BMW               4874\n",
       "MERCEDES-BENZ     4058\n",
       "KIA               3764\n",
       "NISSAN            3398\n",
       "AUDI              2862\n",
       "LAND ROVER        2653\n",
       "JEEP              1154\n",
       "VOLVO             1114\n",
       "PORSCHE           1076\n",
       "SUZUKI             887\n",
       "MINI               847\n",
       "DODGE              805\n",
       "CHERY              462\n",
       "CHRYSLER           451\n",
       "SUBARU             450\n",
       "JAC                435\n",
       "TROLLER            350\n",
       "SSANGYONG          234\n",
       "LIFAN              180\n",
       "                 ...  \n",
       "MORRIS               2\n",
       "CHANGAN              2\n",
       "LANDWIND             2\n",
       "JPX                  2\n",
       "WAKE                 2\n",
       "DELOREAN             2\n",
       "FERCAR BUGGY         2\n",
       "CHAMONIX             2\n",
       "GREAT WALL           1\n",
       "SELVAGEM             1\n",
       "KAISER               1\n",
       "CBT                  1\n",
       "OPEL                 1\n",
       "AUSTIN-HEALEY        1\n",
       "FOTON                1\n",
       "PACKARD              1\n",
       "DACON                1\n",
       "HUDSON               1\n",
       "BEACH                1\n",
       "DKW-VEMAG            1\n",
       "GEO                  1\n",
       "DATSUN               1\n",
       "MCLAREN              1\n",
       "ICOMDA               1\n",
       "STUDEBAKER           1\n",
       "MIURA                1\n",
       "ISUZU                1\n",
       "SAAB                 1\n",
       "ASIA                 1\n",
       "WHIPPET              1\n",
       "Name: marca, dtype: int64"
      ]
     },
     "execution_count": 218,
     "metadata": {},
     "output_type": "execute_result"
    }
   ],
   "source": [
    "data.marca.value_counts()"
   ]
  },
  {
   "cell_type": "markdown",
   "metadata": {},
   "source": [
    "### Estado"
   ]
  },
  {
   "cell_type": "code",
   "execution_count": 219,
   "metadata": {
    "collapsed": false
   },
   "outputs": [
    {
     "data": {
      "text/plain": [
       "Sao Paulo (SP)              95877\n",
       "Santa Catarina (SC)         15526\n",
       "Minas Gerais (MG)           13723\n",
       "Parana (PR)                 13625\n",
       "Rio de Janeiro (RJ)         12605\n",
       "Rio Grande do Sul (RS)       7471\n",
       "Distrito Federal (DF)        5658\n",
       "Goias (GO)                   3229\n",
       "Rio Grande do Norte (RN)     3106\n",
       "Bahia (BA)                   2301\n",
       "Mato Grosso do Sul (MS)      2291\n",
       "Pernambuco (PE)              2216\n",
       "Espirito Santo (ES)          1739\n",
       "Ceara (CE)                   1684\n",
       "Piaui (PI)                    698\n",
       "Paraiba (PB)                  665\n",
       "Mato Grosso (MT)              611\n",
       "Para (PA)                     559\n",
       "Sergipe (SE)                  519\n",
       "Maranhao (MA)                 510\n",
       "Amazonas (AM)                 442\n",
       "Rondonia (RO)                 330\n",
       "Alagoas (AL)                  157\n",
       "Tocantins (TO)                 92\n",
       "Acre (AC)                      69\n",
       "Roraima (RR)                   65\n",
       "Amapa (AP)                     10\n",
       "Name: estado, dtype: int64"
      ]
     },
     "execution_count": 219,
     "metadata": {},
     "output_type": "execute_result"
    }
   ],
   "source": [
    "data.estado.value_counts()"
   ]
  },
  {
   "cell_type": "markdown",
   "metadata": {},
   "source": [
    "### Cor"
   ]
  },
  {
   "cell_type": "code",
   "execution_count": 220,
   "metadata": {
    "collapsed": false
   },
   "outputs": [
    {
     "data": {
      "text/plain": [
       "Prata         56688\n",
       "Preto         51497\n",
       "Branco        35857\n",
       "Cinza         17260\n",
       "Vermelho      11116\n",
       "Azul           4574\n",
       "Verde          3282\n",
       "Bege           1600\n",
       "Amarelo         972\n",
       "Marrom          769\n",
       "Vinho           714\n",
       "Dourado         647\n",
       "Laranja         420\n",
       "Indefinida      193\n",
       "Bronze           79\n",
       "Roxo             31\n",
       "prata            29\n",
       "preto            15\n",
       "Rosa             12\n",
       "branco            8\n",
       "cinza             6\n",
       "verde             3\n",
       "bege              2\n",
       "marrom            2\n",
       "laranja           1\n",
       "azul              1\n",
       "Name: cor, dtype: int64"
      ]
     },
     "execution_count": 220,
     "metadata": {},
     "output_type": "execute_result"
    }
   ],
   "source": [
    "data.cor.value_counts()"
   ]
  },
  {
   "cell_type": "markdown",
   "metadata": {},
   "source": [
    "### Final da placa"
   ]
  },
  {
   "cell_type": "code",
   "execution_count": 221,
   "metadata": {
    "collapsed": false
   },
   "outputs": [
    {
     "data": {
      "text/plain": [
       "0.0     32744\n",
       "5.0     18408\n",
       "4.0     17610\n",
       "1.0     17394\n",
       "3.0     17331\n",
       "8.0     17253\n",
       "7.0     17076\n",
       "6.0     16990\n",
       "9.0     15631\n",
       "2.0     15323\n",
       "11.0     3449\n",
       "Name: final_placa, dtype: int64"
      ]
     },
     "execution_count": 221,
     "metadata": {},
     "output_type": "execute_result"
    }
   ],
   "source": [
    "data.final_placa = data.final_placa.fillna(11).replace('N/I',11).apply(float)\n",
    "data.final_placa.value_counts()\n",
    "### 11 == NA"
   ]
  },
  {
   "cell_type": "markdown",
   "metadata": {},
   "source": [
    "### KM"
   ]
  },
  {
   "cell_type": "code",
   "execution_count": 223,
   "metadata": {
    "collapsed": false
   },
   "outputs": [],
   "source": [
    "km = data.km.str.strip()\n",
    "km = km.str.replace('N/I','0')\n",
    "km = km.str.replace('.','')\n",
    "km = km.str.replace(',','.')"
   ]
  },
  {
   "cell_type": "code",
   "execution_count": 226,
   "metadata": {
    "collapsed": false
   },
   "outputs": [],
   "source": [
    "data.km =km\n",
    "data.km = data.km.fillna(0).apply(float)\n",
    "data.ix[data.km<1000, 'km'] = data.ix[data.km<1000, 'km'].fillna(0)*1000"
   ]
  },
  {
   "cell_type": "code",
   "execution_count": 227,
   "metadata": {
    "collapsed": false
   },
   "outputs": [
    {
     "data": {
      "text/plain": [
       "count    1.892090e+05\n",
       "mean     4.601419e+05\n",
       "std      2.392523e+07\n",
       "min      0.000000e+00\n",
       "25%      3.077600e+04\n",
       "50%      5.900000e+04\n",
       "75%      9.062500e+04\n",
       "max      2.147484e+09\n",
       "Name: km, dtype: float64"
      ]
     },
     "execution_count": 227,
     "metadata": {},
     "output_type": "execute_result"
    }
   ],
   "source": [
    "data.km.describe()"
   ]
  },
  {
   "cell_type": "markdown",
   "metadata": {},
   "source": [
    "### Cambio"
   ]
  },
  {
   "cell_type": "code",
   "execution_count": 230,
   "metadata": {
    "collapsed": false
   },
   "outputs": [
    {
     "data": {
      "text/plain": [
       "Manual                   109235\n",
       "Automática                70047\n",
       "Automática Sequencial      5283\n",
       "CVT                         769\n",
       "Semi-automática             442\n",
       "Name: cambio, dtype: int64"
      ]
     },
     "execution_count": 230,
     "metadata": {},
     "output_type": "execute_result"
    }
   ],
   "source": [
    "data.cambio.value_counts()"
   ]
  },
  {
   "cell_type": "code",
   "execution_count": 232,
   "metadata": {
    "collapsed": false
   },
   "outputs": [
    {
     "data": {
      "text/plain": [
       "GOL                          6651\n",
       "PALIO                        6261\n",
       "FIESTA                       5251\n",
       "UNO                          4134\n",
       "FOX                          3983\n",
       "ECOSPORT                     3707\n",
       "COROLLA                      3661\n",
       "SANDERO                      3629\n",
       "CIVIC                        3627\n",
       "STRADA                       2736\n",
       "CELTA                        2717\n",
       "SAVEIRO                      2679\n",
       "S10                          2562\n",
       "C3                           2545\n",
       "KA                           2457\n",
       "FOCUS                        2456\n",
       "VOYAGE                       2286\n",
       "FIT                          2137\n",
       "JETTA                        2132\n",
       "GOLF                         2115\n",
       "DUSTER                       2110\n",
       "CORSA                        2050\n",
       "HILUX                        1969\n",
       "SIENA                        1963\n",
       "CLASSIC                      1881\n",
       "CRUZE                        1875\n",
       "207                          1815\n",
       "PUNTO                        1791\n",
       "TUCSON                       1766\n",
       "RANGER                       1710\n",
       "                             ... \n",
       "230.6                           1\n",
       "CORONA                          1\n",
       "929                             1\n",
       "SIERRA                          1\n",
       "CL 600                          1\n",
       "L300                            1\n",
       "280Z                            1\n",
       "KINGSWAY                        1\n",
       "JUKE                            1\n",
       "320 SL                          1\n",
       "SLR                             1\n",
       "STUDEBAKER                      1\n",
       "OGGI                            1\n",
       "C70                             1\n",
       "GT 500                          1\n",
       "SL 600                          1\n",
       "V12 VANTAGE                     1\n",
       "VITO                            1\n",
       "CARAVELLE                       1\n",
       "E 200                           1\n",
       "828                             1\n",
       "335                             1\n",
       "CJ2A                            1\n",
       "240 D                           1\n",
       "VIPER                           1\n",
       "LEXUS                           1\n",
       "RX 330                          1\n",
       "DAUPHINE                        1\n",
       "CHEVY 500                       1\n",
       "PICAPE START CABINE DUPLA       1\n",
       "Name: modelo, dtype: int64"
      ]
     },
     "execution_count": 232,
     "metadata": {},
     "output_type": "execute_result"
    }
   ],
   "source": [
    "data.modelo.value_counts()"
   ]
  },
  {
   "cell_type": "markdown",
   "metadata": {},
   "source": [
    "# Start grouping"
   ]
  },
  {
   "cell_type": "code",
   "execution_count": 233,
   "metadata": {
    "collapsed": false
   },
   "outputs": [
    {
     "data": {
      "text/plain": [
       "Index([u'FIPE_link', u'tipoc', u'carroceria', u'ano', u'tpag', u'preco',\n",
       "       u'tipo', u'anomod', u'FIPE', u'download_date', u'FIPE_data', u'portas',\n",
       "       u'combustivel', u'marca', u'link', u'comb', u'estado', u'cor',\n",
       "       u'cidade', u'final_placa', u'km', u'cambio', u'idk', u'modelo',\n",
       "       u'codigo', u'ativo'],\n",
       "      dtype='object')"
      ]
     },
     "execution_count": 233,
     "metadata": {},
     "output_type": "execute_result"
    }
   ],
   "source": [
    "data.columns"
   ]
  },
  {
   "cell_type": "code",
   "execution_count": 234,
   "metadata": {
    "collapsed": true
   },
   "outputs": [],
   "source": [
    "data = data.ix[data.estado=='Sao Paulo (SP)',:]"
   ]
  },
  {
   "cell_type": "code",
   "execution_count": 267,
   "metadata": {
    "collapsed": true
   },
   "outputs": [],
   "source": [
    "data['final_placa_2'] = 'outros'\n",
    "data['final_placa_2'] = np.where(data['final_placa']==0,'sexta','outros')\n",
    "data['final_placa_2'] = np.where(data['final_placa']==9,'sexta','outros')"
   ]
  },
  {
   "cell_type": "code",
   "execution_count": 268,
   "metadata": {
    "collapsed": false
   },
   "outputs": [],
   "source": [
    "d2 = data.groupby(['modelo','FIPE_link','final_placa_2']).mean()[['preco']].reset_index()"
   ]
  },
  {
   "cell_type": "code",
   "execution_count": 282,
   "metadata": {
    "collapsed": false
   },
   "outputs": [],
   "source": [
    "d3 = pd.pivot_table(d2, values='preco', index=['modelo','FIPE_link'], columns=['final_placa_2'], aggfunc=np.mean).reset_index()\n",
    "d3['delta'] = d3.sexta - d3.outros"
   ]
  },
  {
   "cell_type": "code",
   "execution_count": 316,
   "metadata": {
    "collapsed": false
   },
   "outputs": [
    {
     "data": {
      "text/plain": [
       "(3263, 5)"
      ]
     },
     "execution_count": 316,
     "metadata": {},
     "output_type": "execute_result"
    }
   ],
   "source": [
    "f = (~d3.outros.isnull()) & (~d3.sexta.isnull()) & (d3.sexta<200000)\n",
    "d4 = d3.ix[f,:]\n",
    "d4.shape"
   ]
  },
  {
   "cell_type": "code",
   "execution_count": 317,
   "metadata": {
    "collapsed": false
   },
   "outputs": [
    {
     "data": {
      "text/plain": [
       "-1724.9753176455856"
      ]
     },
     "execution_count": 317,
     "metadata": {},
     "output_type": "execute_result"
    }
   ],
   "source": [
    "d4.delta.mean()"
   ]
  },
  {
   "cell_type": "code",
   "execution_count": 318,
   "metadata": {
    "collapsed": false
   },
   "outputs": [
    {
     "data": {
      "text/plain": [
       "-0.022528541427312993"
      ]
     },
     "execution_count": 318,
     "metadata": {},
     "output_type": "execute_result"
    }
   ],
   "source": [
    "d4.delta.mean()/d2.preco.mean()"
   ]
  },
  {
   "cell_type": "code",
   "execution_count": null,
   "metadata": {
    "collapsed": true
   },
   "outputs": [],
   "source": []
  },
  {
   "cell_type": "code",
   "execution_count": null,
   "metadata": {
    "collapsed": true
   },
   "outputs": [],
   "source": []
  },
  {
   "cell_type": "code",
   "execution_count": null,
   "metadata": {
    "collapsed": true
   },
   "outputs": [],
   "source": []
  },
  {
   "cell_type": "code",
   "execution_count": null,
   "metadata": {
    "collapsed": true
   },
   "outputs": [],
   "source": []
  },
  {
   "cell_type": "code",
   "execution_count": null,
   "metadata": {
    "collapsed": true
   },
   "outputs": [],
   "source": []
  },
  {
   "cell_type": "code",
   "execution_count": null,
   "metadata": {
    "collapsed": true
   },
   "outputs": [],
   "source": []
  },
  {
   "cell_type": "code",
   "execution_count": null,
   "metadata": {
    "collapsed": true
   },
   "outputs": [],
   "source": []
  },
  {
   "cell_type": "code",
   "execution_count": null,
   "metadata": {
    "collapsed": true
   },
   "outputs": [],
   "source": []
  },
  {
   "cell_type": "code",
   "execution_count": null,
   "metadata": {
    "collapsed": true
   },
   "outputs": [],
   "source": []
  },
  {
   "cell_type": "code",
   "execution_count": null,
   "metadata": {
    "collapsed": true
   },
   "outputs": [],
   "source": []
  },
  {
   "cell_type": "code",
   "execution_count": null,
   "metadata": {
    "collapsed": true
   },
   "outputs": [],
   "source": []
  },
  {
   "cell_type": "code",
   "execution_count": null,
   "metadata": {
    "collapsed": true
   },
   "outputs": [],
   "source": []
  }
 ],
 "metadata": {
  "kernelspec": {
   "display_name": "Python 2",
   "language": "python",
   "name": "python2"
  },
  "language_info": {
   "codemirror_mode": {
    "name": "ipython",
    "version": 2
   },
   "file_extension": ".py",
   "mimetype": "text/x-python",
   "name": "python",
   "nbconvert_exporter": "python",
   "pygments_lexer": "ipython2",
   "version": "2.7.11"
  }
 },
 "nbformat": 4,
 "nbformat_minor": 0
}

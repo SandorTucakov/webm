{
 "cells": [
  {
   "cell_type": "code",
   "execution_count": 1,
   "metadata": {
    "collapsed": true
   },
   "outputs": [],
   "source": [
    "import sys\n",
    "sys.path.append('./webm')\n",
    "import time\n",
    "import pandas as pd\n",
    "from get_cars import *\n",
    "from multiprocessing import Pool\n",
    "from time import sleep\n",
    "\n",
    "def pega(arg1, arg2):\n",
    "    print 'rodando'\n",
    "    links = pd.read_csv(arg1, sep=';', header=None)\n",
    "    urls = list(links[0])\n",
    "    get_cars2(urls, arg2)\n",
    "    print links[0]\n",
    "\n",
    "    return links\n",
    "\n",
    "pool = Pool(processes=20)\n",
    "result_squares = pool.map_async(pega, './webm/links/delta_links.csv')\n"
   ]
  },
  {
   "cell_type": "code",
   "execution_count": null,
   "metadata": {
    "collapsed": true
   },
   "outputs": [],
   "source": []
  }
 ],
 "metadata": {
  "kernelspec": {
   "display_name": "Python 2",
   "language": "python",
   "name": "python2"
  },
  "language_info": {
   "codemirror_mode": {
    "name": "ipython",
    "version": 2
   },
   "file_extension": ".py",
   "mimetype": "text/x-python",
   "name": "python",
   "nbconvert_exporter": "python",
   "pygments_lexer": "ipython2",
   "version": "2.7.11"
  }
 },
 "nbformat": 4,
 "nbformat_minor": 0
}

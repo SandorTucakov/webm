{
 "cells": [
  {
   "cell_type": "code",
   "execution_count": null,
   "metadata": {
    "collapsed": true
   },
   "outputs": [],
   "source": [
    "import sys\n",
    "sys.path.append('./webm')\n",
    "import time\n",
    "import pandas as pd\n",
    "from get_cars import *\n",
    "from multiprocessing import Pool\n",
    "from time import sleep\n",
    "\n",
    "def pega(arg1, arg2):\n",
    "    print 'rodando'\n",
    "    links = pd.read_csv(arg1, sep=';', header=None)\n",
    "    urls = list(links[0])\n",
    "    get_cars.get_cars2(urls, arg2)\n",
    "    print links[0]\n",
    "\n",
    "    return links"
   ]
  },
  {
   "cell_type": "code",
   "execution_count": null,
   "metadata": {
    "collapsed": true
   },
   "outputs": [],
   "source": [
    "pool = Pool(processes=20)\n",
    "result_squares = pool.map_async(pega, './webm/links/delta_links.csv')\n"
   ]
  },
  {
   "cell_type": "code",
   "execution_count": 12,
   "metadata": {
    "collapsed": false
   },
   "outputs": [],
   "source": [
    "from multiprocessing import Pool\n",
    "from time import sleep\n",
    "\n",
    "if __name__ == \"__main__\":\n",
    "    def square(x):\n",
    "        sleep(x % 3)\n",
    "        print 'sq:' , x * x, x % 3\n",
    "        return x * x\n",
    "\n",
    "    def cube(y):\n",
    "        print 'cb:', y * y * y\n",
    "        return y * y * y\n",
    "\n",
    "    pool = Pool(processes=4)\n",
    "    result_squares = pool.map_async(square, range(150))\n"
   ]
  },
  {
   "cell_type": "code",
   "execution_count": 1,
   "metadata": {
    "collapsed": false
   },
   "outputs": [],
   "source": [
    "from pmap.core import Future"
   ]
  },
  {
   "cell_type": "code",
   "execution_count": 9,
   "metadata": {
    "collapsed": true
   },
   "outputs": [],
   "source": [
    "def square(x):\n",
    "    sleep(1)\n",
    "    print 'sq:' , x * x, x % 3\n",
    "    return x * x\n",
    "\n",
    "def cube(y):\n",
    "    print 'cb:', y * y * y\n",
    "    return y * y * y\n"
   ]
  },
  {
   "cell_type": "code",
   "execution_count": 10,
   "metadata": {
    "collapsed": false
   },
   "outputs": [
    {
     "name": "stdout",
     "output_type": "stream",
     "text": [
      "cb: 0\n",
      "cb: 1\n",
      "cb: 8\n",
      "cb: 64\n",
      "cb: 64\n",
      "cb: 125\n",
      "cb: 216\n",
      "cb: 512\n",
      "cb: 729\n",
      "cb: 729\n",
      "cb: 1000\n",
      "cb: 1331\n",
      "cb: 2197\n",
      "cb: 2744\n",
      "cb: 2744\n",
      "cb: 3375\n",
      "cb: 4096\n",
      "cb: 5832\n",
      "cb: 5832\n",
      "cb: 6859\n",
      "cb: 8000\n",
      "cb: 10648\n",
      "cb: 12167\n",
      "cb: 12167\n",
      "cb: 13824\n",
      "cb: 17576\n",
      "cb: 17576\n",
      "cb: 19683\n",
      "cb: 21952\n",
      "cb: 24389\n",
      "cb: 29791\n",
      "cb: 32768\n",
      "cb: 32768\n",
      "cb: 39304\n",
      "cb: 42875\n",
      "cb: 46656\n",
      "cb: 50653\n",
      "cb: 50653\n",
      "cb: 54872\n",
      "cb: 64000\n",
      "cb: 64000\n",
      "cb: 68921\n",
      "cb: 74088\n",
      "cb: 79507\n",
      "cb: 91125\n",
      "cb: 91125\n",
      "cb: 97336\n",
      "cb: 103823\n",
      "cb: 117649\n",
      "cb: 117649\n",
      "cb: 125000\n",
      "cb: 132651\n",
      "cb: 140608\n",
      "cb: 157464\n",
      "cb: 166375\n",
      "cb: 166375\n",
      "cb: 175616\n",
      "cb: 185193\n",
      "cb: 195112\n",
      "cb: 205379\n",
      "cb: 216000\n",
      "cb: 226981\n",
      "cb: 250047\n",
      "cb: 250047\n",
      "cb: 262144\n",
      "cb: 274625\n",
      "cb: 287496\n",
      "cb: 314432\n",
      "cb: 314432\n",
      "cb: 328509\n",
      "cb: 343000\n",
      "cb: 357911\n",
      "cb: 373248\n",
      "cb: 389017\n",
      "cb: 405224\n",
      "cb: 421875\n",
      "cb: 456533\n",
      "cb: 456533\n",
      "cb: 474552\n",
      "cb: 493039\n",
      "cb: 531441\n",
      "cb: 551368\n",
      "cb: 551368\n",
      "cb: 571787\n",
      "cb: 592704\n",
      "cb: 636056\n",
      "cb: 636056\n",
      "cb: 658503\n",
      "cb: 681472\n",
      "cb: 704969\n",
      "cb: 729000\n",
      "cb: 753571\n",
      "cb: 778688\n",
      "cb: 804357\n",
      "cb: 857375\n",
      "cb: 857375\n",
      "cb: 884736\n",
      "cb: 912673\n",
      "cb: 941192\n",
      "cb: 970299\n"
     ]
    }
   ],
   "source": [
    "for r in range(100):\n",
    "    Future(lambda: square(r))\n",
    "    Future(lambda: cube(r))"
   ]
  },
  {
   "cell_type": "code",
   "execution_count": null,
   "metadata": {
    "collapsed": true
   },
   "outputs": [],
   "source": []
  },
  {
   "cell_type": "code",
   "execution_count": null,
   "metadata": {
    "collapsed": true
   },
   "outputs": [],
   "source": []
  },
  {
   "cell_type": "code",
   "execution_count": null,
   "metadata": {
    "collapsed": true
   },
   "outputs": [],
   "source": []
  },
  {
   "cell_type": "code",
   "execution_count": null,
   "metadata": {
    "collapsed": true
   },
   "outputs": [],
   "source": []
  },
  {
   "cell_type": "code",
   "execution_count": null,
   "metadata": {
    "collapsed": true
   },
   "outputs": [],
   "source": []
  },
  {
   "cell_type": "code",
   "execution_count": null,
   "metadata": {
    "collapsed": true
   },
   "outputs": [],
   "source": []
  }
 ],
 "metadata": {
  "kernelspec": {
   "display_name": "Python 2",
   "language": "python",
   "name": "python2"
  },
  "language_info": {
   "codemirror_mode": {
    "name": "ipython",
    "version": 2
   },
   "file_extension": ".py",
   "mimetype": "text/x-python",
   "name": "python",
   "nbconvert_exporter": "python",
   "pygments_lexer": "ipython2",
   "version": "2.7.11"
  }
 },
 "nbformat": 4,
 "nbformat_minor": 0
}
